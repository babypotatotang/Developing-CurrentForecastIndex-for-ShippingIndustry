{
 "cells": [
  {
   "cell_type": "markdown",
   "id": "66ccd3f2",
   "metadata": {},
   "source": [
    "전체 뉴스데이터를 하나의 데이터셋으로 Merging "
   ]
  },
  {
   "cell_type": "code",
   "execution_count": 2,
   "id": "995b4cdd",
   "metadata": {},
   "outputs": [],
   "source": [
    "import pandas as pd\n",
    "import numpy as np\n",
    "import re\n",
    "from nltk.corpus import stopwords \n",
    "from nltk.tokenize import word_tokenize \n",
    "\n",
    "from konlpy.tag import Komoran \n",
    "\n",
    "from tqdm import tqdm"
   ]
  },
  {
   "cell_type": "markdown",
   "id": "1303316f",
   "metadata": {},
   "source": [
    "Total Data 합치기"
   ]
  },
  {
   "cell_type": "code",
   "execution_count": 3,
   "id": "256eb237",
   "metadata": {},
   "outputs": [],
   "source": [
    "# office_data=[['중앙일보','025'],['JTBC','437'],['YTN','052'],['한국경제','015'],['매일경제','009'],\n",
    "#              ['조선일보','023'],['연합뉴스','422'],['SBS','055'],['KBS','056'],['한겨레','028']]\n",
    "\n",
    "office_data=[['매일경제','009'],['머니투데이','008'],['비즈니스워치','648'],['서울경제','011'],\n",
    "             ['아시아경제','277'],['이데일리','018'],['조선비즈','366'],['조세일보','123'],['파이낸셜뉴스','014'],['한국경제','015'],\n",
    "            ['헤럴드경제','016']]\n",
    "office_list=pd.DataFrame(office_data,columns=['언론사명','id'])\n",
    "\n",
    "date_list=pd.read_excel('D:\\\\KMI-Project_tmp\\\\Data\\\\Sentimental\\\\Naver\\\\General\\\\DateList.xlsx')\n",
    "df_content=pd.DataFrame()"
   ]
  },
  {
   "cell_type": "code",
   "execution_count": 4,
   "id": "0e1154cf",
   "metadata": {},
   "outputs": [],
   "source": [
    "def corpus(tmp_list):\n",
    "    return ' '+' '.join(tmp_list)"
   ]
  },
  {
   "cell_type": "code",
   "execution_count": 5,
   "id": "3abcee7c",
   "metadata": {},
   "outputs": [],
   "source": [
    "def cleansing(text):  \n",
    "    new_text=' '.join(text.split()) #공백 제거\n",
    "    pattern = '[0-9]'\n",
    "    new_text = re.sub(pattern=pattern,repl=' ',string=new_text)\n",
    "    \n",
    "    pattern = '([a-zA-Z0-9_.+-]+@[a-zA-Z0-9-]+\\.[a-zA-Z0-9-.]+)' #이메일 주소 제거\n",
    "    new_text = re.sub(pattern=pattern, repl='', string=text)\n",
    "    \n",
    "    pattern = '(http|ftp|https)://(?:[-\\w.]|(?:\\da-fA-F]{2}))+'  # url 제거\n",
    "    new_text = re.sub(pattern=pattern,repl=' ',string=new_text)\n",
    "\n",
    "    pattern = '<[^>]*>'                                          # html tag 제거\n",
    "    new_text = re.sub(pattern=pattern,repl=' ',string=new_text)\n",
    "\n",
    "    pattern = '[\\r|\\n]'                                          # \\r, \\n 제거\n",
    "    new_text = re.sub(pattern=pattern,repl=' ',string=new_text)\n",
    "\n",
    "    pattern = '[^\\w\\s]'                                          # 특수기호 제거\n",
    "    new_text = re.sub(pattern=pattern,repl=' ',string=new_text)\n",
    "\n",
    "    pattern = re.compile(r'\\s+')                                 # 이중 space 제거\n",
    "    new_text = re.sub(pattern=pattern,repl=' ',string=new_text)\n",
    "    \n",
    "    \n",
    "    ##불용어 처리\n",
    "    stopword=\"\\d|급$|씨$|월$|일$|더불어민주당|새누리당|야당|여당|사진|이날|_|기자$|위|등|안|때|시|분|각\" \n",
    "\n",
    "    word_tokens=word_tokenize(new_text)\n",
    "    data_word=[x for x in word_tokens if not re.search(stopword,x)]\n",
    "    new_text=\" \".join(data_word)\n",
    "    \n",
    "\n",
    "    return(new_text)"
   ]
  },
  {
   "cell_type": "code",
   "execution_count": 6,
   "id": "b16e48be",
   "metadata": {},
   "outputs": [
    {
     "name": "stdout",
     "output_type": "stream",
     "text": [
      "매일경제\n"
     ]
    },
    {
     "name": "stderr",
     "output_type": "stream",
     "text": [
      "100%|████████████████████████████████████████████████████████████████████████████████| 268/268 [09:34<00:00,  2.14s/it]\n"
     ]
    },
    {
     "name": "stdout",
     "output_type": "stream",
     "text": [
      "머니투데이\n"
     ]
    },
    {
     "name": "stderr",
     "output_type": "stream",
     "text": [
      "100%|████████████████████████████████████████████████████████████████████████████████| 268/268 [10:32<00:00,  2.36s/it]\n"
     ]
    },
    {
     "name": "stdout",
     "output_type": "stream",
     "text": [
      "비즈니스워치\n"
     ]
    },
    {
     "name": "stderr",
     "output_type": "stream",
     "text": [
      "100%|████████████████████████████████████████████████████████████████████████████████| 268/268 [11:27<00:00,  2.56s/it]\n"
     ]
    },
    {
     "name": "stdout",
     "output_type": "stream",
     "text": [
      "서울경제\n"
     ]
    },
    {
     "name": "stderr",
     "output_type": "stream",
     "text": [
      "100%|████████████████████████████████████████████████████████████████████████████████| 268/268 [10:35<00:00,  2.37s/it]\n"
     ]
    },
    {
     "name": "stdout",
     "output_type": "stream",
     "text": [
      "아시아경제\n"
     ]
    },
    {
     "name": "stderr",
     "output_type": "stream",
     "text": [
      "100%|████████████████████████████████████████████████████████████████████████████████| 268/268 [09:10<00:00,  2.05s/it]\n"
     ]
    },
    {
     "name": "stdout",
     "output_type": "stream",
     "text": [
      "이데일리\n"
     ]
    },
    {
     "name": "stderr",
     "output_type": "stream",
     "text": [
      "100%|████████████████████████████████████████████████████████████████████████████████| 268/268 [08:56<00:00,  2.00s/it]\n"
     ]
    },
    {
     "name": "stdout",
     "output_type": "stream",
     "text": [
      "조선비즈\n"
     ]
    },
    {
     "name": "stderr",
     "output_type": "stream",
     "text": [
      "100%|████████████████████████████████████████████████████████████████████████████████| 268/268 [10:07<00:00,  2.26s/it]\n"
     ]
    },
    {
     "name": "stdout",
     "output_type": "stream",
     "text": [
      "조세일보\n"
     ]
    },
    {
     "name": "stderr",
     "output_type": "stream",
     "text": [
      "100%|████████████████████████████████████████████████████████████████████████████████| 268/268 [12:10<00:00,  2.73s/it]\n"
     ]
    },
    {
     "name": "stdout",
     "output_type": "stream",
     "text": [
      "파이낸셜뉴스\n"
     ]
    },
    {
     "name": "stderr",
     "output_type": "stream",
     "text": [
      "100%|████████████████████████████████████████████████████████████████████████████████| 268/268 [11:56<00:00,  2.67s/it]\n"
     ]
    },
    {
     "name": "stdout",
     "output_type": "stream",
     "text": [
      "한국경제\n"
     ]
    },
    {
     "name": "stderr",
     "output_type": "stream",
     "text": [
      "100%|████████████████████████████████████████████████████████████████████████████████| 268/268 [15:07<00:00,  3.39s/it]\n"
     ]
    },
    {
     "name": "stdout",
     "output_type": "stream",
     "text": [
      "헤럴드경제\n"
     ]
    },
    {
     "name": "stderr",
     "output_type": "stream",
     "text": [
      "100%|████████████████████████████████████████████████████████████████████████████████| 268/268 [17:29<00:00,  3.92s/it]\n"
     ]
    }
   ],
   "source": [
    "#일반 뉴스 기사에 대한 중복, null 값 제거 과정 \n",
    "df_total=pd.DataFrame()\n",
    "list_error=[]\n",
    "total_doc=0\n",
    "komo=Komoran()\n",
    "for office_id in office_list['id']:\n",
    "    office_name=office_list.loc[office_list['id']==office_id,['언론사명']].values[0] #언론사명 \n",
    "    office_name=office_name[0]\n",
    "    print(office_name)\n",
    "    \n",
    "    for date in tqdm(date_list['Date']):\n",
    "        file_name='Sentimental_Index_'+office_name+'_'+str(date)+'.xlsx'\n",
    "        Docs=pd.read_excel('D:\\\\KMI-Project_tmp\\\\Data\\\\Sentimental\\\\Naver\\\\Economics\\\\A.전체\\\\'+file_name)\n",
    "\n",
    "        for index, row in Docs.iterrows():\n",
    "            content=row['Contents']; label=row['Label']; url=row['URL']\n",
    "            content=cleansing(content) #string 형으로\n",
    "            keyword=corpus(komo.nouns(content)) # string 형으로\n",
    "\n",
    "            df_total=df_total.append(pd.Series([keyword,label,content,url],index=['Keyword','Label','Content','URL']),ignore_index=True) #전체 문서 파일 저장 "
   ]
  },
  {
   "cell_type": "code",
   "execution_count": 7,
   "id": "36d21666",
   "metadata": {},
   "outputs": [],
   "source": [
    "df_total.dropna(how='any',inplace=True) #Null 값이 존재하는 행 제거 \n",
    "df_total.drop_duplicates(subset=['Content'], inplace=True) #Contents 열에서 중복인 내용이 있다면 중복 제거 \n",
    "df_total.to_excel('D:\\\\KMI-Project_tmp\\\\Data\\\\Sentimental\\\\Naver\\\\Economics\\\\TotalDoc_Economics.xlsx')"
   ]
  },
  {
   "cell_type": "code",
   "execution_count": 8,
   "id": "87e19cc3",
   "metadata": {},
   "outputs": [
    {
     "name": "stdout",
     "output_type": "stream",
     "text": [
      "전체 뉴스 기사 수:  67190\n"
     ]
    }
   ],
   "source": [
    "print('전체 뉴스 기사 수: ',len(df_total)); "
   ]
  }
 ],
 "metadata": {
  "kernelspec": {
   "display_name": "pykernel",
   "language": "python",
   "name": "pykernel3.7.3"
  },
  "language_info": {
   "codemirror_mode": {
    "name": "ipython",
    "version": 3
   },
   "file_extension": ".py",
   "mimetype": "text/x-python",
   "name": "python",
   "nbconvert_exporter": "python",
   "pygments_lexer": "ipython3",
   "version": "3.7.3"
  }
 },
 "nbformat": 4,
 "nbformat_minor": 5
}
