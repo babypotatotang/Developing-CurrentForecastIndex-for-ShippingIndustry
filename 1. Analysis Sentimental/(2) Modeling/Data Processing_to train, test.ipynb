{
 "cells": [
  {
   "cell_type": "code",
   "execution_count": 46,
   "id": "daf9555c",
   "metadata": {},
   "outputs": [],
   "source": [
    "import pandas as pd\n",
    "import numpy as np\n",
    "import matplotlib.pyplot as plt\n",
    "\n",
    "from string import digits\n",
    "from collections import Counter\n",
    "\n",
    "from tqdm import tqdm\n",
    "\n",
    "from sklearn.model_selection import train_test_split"
   ]
  },
  {
   "cell_type": "markdown",
   "id": "de02675f",
   "metadata": {},
   "source": [
    "사용할 데이터 업로드 : total_data"
   ]
  },
  {
   "cell_type": "code",
   "execution_count": 49,
   "id": "b27af012",
   "metadata": {},
   "outputs": [],
   "source": [
    "total_data=pd.read_excel('D:\\\\KMI-Project_tmp\\\\Data\\\\Sentimental\\\\Naver\\\\General\\\\TotalDoc_General.xlsx',usecols=['Content','Label']) ##전체 데이터 "
   ]
  },
  {
   "cell_type": "markdown",
   "id": "397df82d",
   "metadata": {},
   "source": [
    "Total Data 전처리: \n",
    "- 부정 값 0으로 변경\n",
    "- content 내용 문장 단위로 split"
   ]
  },
  {
   "cell_type": "code",
   "execution_count": 50,
   "id": "c4eb6572",
   "metadata": {},
   "outputs": [
    {
     "name": "stdout",
     "output_type": "stream",
     "text": [
      "총 샘플의 수 : 62258\n",
      "null 값 유무:  False\n"
     ]
    }
   ],
   "source": [
    "total_data['Content'].nunique(), total_data['Label'].nunique() #TotalDataSet에 중복 확인 \n",
    "total_data.dropna(subset=['Content'],inplace=True)\n",
    "total_data['Content']=total_data['Content'].str.strip()\n",
    "total_data.drop_duplicates(subset=['Content'], inplace=True) # reviews 열에서 중복인 내용이 있다면 중복 제거\n",
    "print('총 샘플의 수 :',len(total_data))\n",
    "print('null 값 유무: ',total_data.isnull().values.any())"
   ]
  },
  {
   "cell_type": "code",
   "execution_count": 51,
   "id": "4a5f55cc",
   "metadata": {},
   "outputs": [],
   "source": [
    "total_len=0\n",
    "count_len=0\n",
    "max_len=0\n",
    "\n",
    "for i in total_data['Content']:\n",
    "    tmp_split=i.split('다 ')#tmp_split 리스트 생성\n",
    "\n",
    "    for j in tmp_split:\n",
    "        count_len+=1\n",
    "        total_len+=len(j)\n",
    "\n",
    "        if max_len<len(j) and len(j)<1000:\n",
    "            max_len=len(j)\n",
    "            max_content=j"
   ]
  },
  {
   "cell_type": "code",
   "execution_count": 52,
   "id": "660c35bc",
   "metadata": {},
   "outputs": [
    {
     "name": "stdout",
     "output_type": "stream",
     "text": [
      "기사 한 문장의 평균 길이: 48.21530607999729\n",
      "기사 한 문장의 최대 길이: 988\n",
      "한국을 오가면서 학회 토론도 하고 발표도 했지만 제가 이 있진 않았기 관찰자 입장이었어요 제가 연구를 계기가 있어요 프랑스 보르도 대학에 있을 학생들이 한국 문화 동아리를 하고 있었는데 저는 이게 유학생들이 주축이 된 동아리인 줄 알았어요 옛날에 우리 세대 미국 유학생들이 한국이 그리워서 같이 모여서 한국 드라마 보고 그랬던 것처럼 말이죠 그런데 아니더라고요 한국 학생이 한 명도 없고 모두 프랑스 학생들이었어요 그렇다고 보르도 대학이 파리나 마르세유 대학처럼 다문화적인 곳도 아니거든요 그래서 흥미가 생겼죠 이 학생들이 모여서 뭘 하나 했더니 한국 드라마를 보고 있더라고요 그래서 저도 이 학생들을 인터뷰하고 드라마를 보기 한국을 떠나서 못 봤던 드라마들 그 쌓인 것을 보면서 너무 놀랐어요 한국 드라마의 질적인 성장이 보였거든요 그리고 정말 글로벌한 문화의 유통 매개자가 필요 없는 자발적인 수용 언어의 장벽을 아무 문제 없이 뛰어넘는 자발적 번역 자막 subtitle 이라고 하잖아요 그런 조직화된 문화 팬덤이 있다는 걸 확인한 거잖아요 그래서 그 한국 드라마 보는 프랑스 팬덤 동아리에 들어가서 이런 환경이 어떻게 이뤄졌는지 왜 한국 드라마를 보는지 거의 정도 관찰하고 대화하고 연구했어요 여기서 한류의 흐름 이야기로 넘어갈 수 있을 거 같은데요 저는 그 한국 드라마는 넘어 전세계에서 볼 수 있는 내용이었고 질적으로도 잘 만들고 있었기 앞으로 더 커질 것이라고 사실 한국이 경쟁력 있게 만드는 게 로맨틱 코미디예요 그러니까 남자 여자 알콩달콩 연애하는 건데 그건 정말 늘 비슷한 이야기지만 매번 재밌잖아요 그건 제작 능력이 좋고 연기도 잘한다는 얘기죠 요즘 한국 드라마 중에 전세계에서 인기를 끈 건 킹덤 이라든지 오징어게임 같은 거였는데 그건 글로벌 OTT인 넷플릭스가 개입을 한 거고 우리가 주력했던 장르들은 아니에요 한류는 그 개념 자체가 한국 밖에서 한국 대중문화의 인기를 일컫는 말이잖아요 그러니까 한국 인기 있지만 한류는 아닌 것도 많이 있습니\n"
     ]
    }
   ],
   "source": [
    "print('기사 한 문장의 평균 길이:',total_len/count_len)\n",
    "print('기사 한 문장의 최대 길이:',max_len)\n",
    "print(max_content)"
   ]
  },
  {
   "cell_type": "code",
   "execution_count": 53,
   "id": "08d8272f",
   "metadata": {},
   "outputs": [],
   "source": [
    "mean_len=50 #한 기사의 문장 길이를 mean_len으로 설정하고 split된 sentence의 길이 표준화 "
   ]
  },
  {
   "cell_type": "code",
   "execution_count": 54,
   "id": "067ea7cd",
   "metadata": {},
   "outputs": [],
   "source": [
    "def make_list(content_list):\n",
    "    tmp_list=[]\n",
    "    sentence_list=[]\n",
    "\n",
    "    for sentence in content_list:\n",
    "        if len(sentence)>mean_len: sentence_list.append(sentence)\n",
    "        else:\n",
    "            if not tmp_list: tmp_list.append(sentence)\n",
    "            else:\n",
    "                tmp_sentence=' '.join(tmp_list)\n",
    "                \n",
    "                if len(tmp_sentence)>mean_len: \n",
    "                    sentence_list.append(tmp_sentence)\n",
    "                    \n",
    "                    tmp_list=[]\n",
    "                    tmp_list.append(sentence)\n",
    "                else:\n",
    "                    tmp_list.append(sentence)\n",
    "                    \n",
    "    return sentence_list"
   ]
  },
  {
   "cell_type": "code",
   "execution_count": 55,
   "id": "e7d9b6bc",
   "metadata": {},
   "outputs": [],
   "source": [
    "def split(contents):\n",
    "    sentence_list=[]\n",
    "    \n",
    "    split_contents=contents.split('다 ')\n",
    "    split_contents=split_contents[:len(split_contents)-1]\n",
    "    \n",
    "    sentence_list=make_list(split_contents)\n",
    "    \n",
    "    return sentence_list"
   ]
  },
  {
   "cell_type": "code",
   "execution_count": 56,
   "id": "28b5a3b3",
   "metadata": {},
   "outputs": [],
   "source": [
    "def match(sentence_list,label):\n",
    "    tmp_sentence=[]\n",
    "    tmp_label=[]\n",
    "    \n",
    "    for i in sentence_list:\n",
    "        tmp_sentence.append(i)\n",
    "        tmp_label.append(label)\n",
    "    \n",
    "    df_tmp=pd.DataFrame(\n",
    "        {'Sentence':tmp_sentence,\n",
    "         'Label':tmp_label}\n",
    "    )\n",
    "    \n",
    "    return df_tmp"
   ]
  },
  {
   "cell_type": "code",
   "execution_count": 57,
   "id": "664ab509",
   "metadata": {},
   "outputs": [
    {
     "name": "stderr",
     "output_type": "stream",
     "text": [
      "100%|█████████████████████████████████████████████████| 62258/62258 [48:10<00:00, 21.54it/s]\n"
     ]
    }
   ],
   "source": [
    "df_total=pd.DataFrame(index=['Sentence','Label'])\n",
    "\n",
    "for i in tqdm(total_data['Content']):\n",
    "    label=total_data.loc[total_data['Content']==i,['Label']].values[0][0]\n",
    "    sentence_list=split(i); df_tmp=match(sentence_list,label)\n",
    "    df_total=df_total.append(df_tmp,ignore_index=True)"
   ]
  },
  {
   "cell_type": "code",
   "execution_count": 58,
   "id": "401f364c",
   "metadata": {},
   "outputs": [],
   "source": [
    "def count_len(x):\n",
    "    try:\n",
    "        return len(x)\n",
    "    except: return 0"
   ]
  },
  {
   "cell_type": "code",
   "execution_count": 59,
   "id": "48e909a5",
   "metadata": {},
   "outputs": [
    {
     "data": {
      "text/plain": [
       "76.22138370787859"
      ]
     },
     "execution_count": 59,
     "metadata": {},
     "output_type": "execute_result"
    }
   ],
   "source": [
    "text_len = df_total['Sentence'].map(lambda x: count_len(x))\n",
    "np.mean(text_len)"
   ]
  },
  {
   "cell_type": "code",
   "execution_count": 60,
   "id": "efd7591e",
   "metadata": {},
   "outputs": [
    {
     "name": "stdout",
     "output_type": "stream",
     "text": [
      "총 샘플의 수 : 739634\n",
      "null 값 유무:  False\n"
     ]
    }
   ],
   "source": [
    "df_total['Sentence'].nunique(), df_total['Label'].nunique() #TotalDataSet에 중복 확인 \n",
    "df_total.dropna(subset=['Sentence'],inplace=True)\n",
    "df_total['Sentence']=df_total['Sentence'].str.strip()\n",
    "df_total.drop_duplicates(subset=['Sentence'], inplace=True) # reviews 열에서 중복인 내용이 있다면 중복 제거\n",
    "\n",
    "print('총 샘플의 수 :',len(df_total))\n",
    "print('null 값 유무: ',df_total.isnull().values.any())"
   ]
  },
  {
   "cell_type": "code",
   "execution_count": 42,
   "id": "8c20ec09",
   "metadata": {},
   "outputs": [],
   "source": [
    "df_total['Label']=df_total['Label'].astype(int)\n",
    "df_total['Label']=df_total['Label'].apply(lambda x: 0 if x==-1 else x) #부정 레이블 0으로 설정"
   ]
  },
  {
   "cell_type": "markdown",
   "id": "cd2ec88e",
   "metadata": {},
   "source": [
    "데이터 split: train_data, test_data( 50:50 비율)"
   ]
  },
  {
   "cell_type": "code",
   "execution_count": 61,
   "id": "b2ba3ad0",
   "metadata": {},
   "outputs": [
    {
     "name": "stdout",
     "output_type": "stream",
     "text": [
      "훈련 용 리뷰의 개수:  554725\n",
      "   Label   count\n",
      "0   -1.0  418219\n",
      "1    1.0  136506\n",
      "테스트용 리뷰의 개수:  184909\n",
      "   Label   count\n",
      "0   -1.0  139110\n",
      "1    1.0   45799\n"
     ]
    }
   ],
   "source": [
    "train_data,test_data=train_test_split(df_total,test_size=0.25,random_state=42) \n",
    "print('훈련 용 리뷰의 개수: ',len(train_data)); print(train_data.groupby('Label').size().reset_index(name = 'count'))\n",
    "print('테스트용 리뷰의 개수: ',len(test_data)); print(test_data.groupby('Label').size().reset_index(name = 'count'))   "
   ]
  },
  {
   "cell_type": "code",
   "execution_count": 62,
   "id": "90383453",
   "metadata": {},
   "outputs": [],
   "source": [
    "train_data.to_csv('D:\\\\KMI-Project_tmp\\\\Data\\\\BiLSTM_Model\\\\General\\\\Model_train_data.csv')\n",
    "test_data.to_csv('D:\\\\KMI-Project_tmp\\\\Data\\\\BiLSTM_Model\\\\General\\\\Model_test_data.csv')"
   ]
  }
 ],
 "metadata": {
  "kernelspec": {
   "display_name": "pykernel",
   "language": "python",
   "name": "pykernel3.7.3"
  },
  "language_info": {
   "codemirror_mode": {
    "name": "ipython",
    "version": 3
   },
   "file_extension": ".py",
   "mimetype": "text/x-python",
   "name": "python",
   "nbconvert_exporter": "python",
   "pygments_lexer": "ipython3",
   "version": "3.7.3"
  }
 },
 "nbformat": 4,
 "nbformat_minor": 5
}
