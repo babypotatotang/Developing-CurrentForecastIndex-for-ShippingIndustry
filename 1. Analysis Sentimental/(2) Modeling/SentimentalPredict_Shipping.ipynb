{
  "nbformat": 4,
  "nbformat_minor": 0,
  "metadata": {
    "colab": {
      "name": "Untitled1.ipynb",
      "private_outputs": true,
      "provenance": [],
      "authorship_tag": "ABX9TyM4OQCy0+z2EFeOv6I3NcaG",
      "include_colab_link": true
    },
    "kernelspec": {
      "name": "python3",
      "display_name": "Python 3"
    },
    "language_info": {
      "name": "python"
    },
    "accelerator": "GPU"
  },
  "cells": [
    {
      "cell_type": "markdown",
      "metadata": {
        "id": "view-in-github",
        "colab_type": "text"
      },
      "source": [
        "<a href=\"https://colab.research.google.com/github/kthink03/KMI-Project_tmp/blob/master/Source/Analysis%20Sentimental/SentimentalPredict_Shipping.ipynb\" target=\"_parent\"><img src=\"https://colab.research.google.com/assets/colab-badge.svg\" alt=\"Open In Colab\"/></a>"
      ]
    },
    {
      "cell_type": "code",
      "execution_count": null,
      "metadata": {
        "id": "X7ybiLwZaAPZ"
      },
      "outputs": [],
      "source": [
        "import pandas as pd\n",
        "import numpy as np\n",
        "from tqdm import tqdm\n",
        "from google.colab import files\n",
        "\n",
        "import re\n",
        "from tensorflow.keras.preprocessing.text import Tokenizer\n",
        "from tensorflow.keras.preprocessing.sequence import pad_sequences\n",
        "\n",
        "from tensorflow.keras.models import load_model"
      ]
    },
    {
      "cell_type": "code",
      "source": [
        "News_Data=pd.read_excel('/content/3. TotalNews.xlsx')\n",
        "News_Data.columns=['Index','Date','Content'] # 칼럼 명 변경 "
      ],
      "metadata": {
        "id": "gArAvtKGgY31"
      },
      "execution_count": null,
      "outputs": []
    },
    {
      "cell_type": "code",
      "source": [
        "Count=pd.read_excel('/content/2. Count Info.xlsx')\n",
        "LCount=Count['뉴스 개수'].tolist()"
      ],
      "metadata": {
        "id": "jcKd-Q45gB-j"
      },
      "execution_count": null,
      "outputs": []
    },
    {
      "cell_type": "code",
      "source": [
        "Content=News_Data['Content'].tolist()"
      ],
      "metadata": {
        "id": "pmvr3bcEgYfM"
      },
      "execution_count": null,
      "outputs": []
    },
    {
      "cell_type": "code",
      "source": [
        "TotalContent=[] #월 별로 키워드를 append하여 저장 \n",
        "for i in LCount:\n",
        "    if len(TotalContent)==0:\n",
        "        TotalContent.append(Content[0:i])\n",
        "        pre=i\n",
        "    else:\n",
        "        TotalContent.append(Content[pre:pre+i])\n",
        "        pre+=i"
      ],
      "metadata": {
        "id": "wP2WOatjhCFy"
      },
      "execution_count": null,
      "outputs": []
    },
    {
      "cell_type": "code",
      "source": [
        "loaded_model = load_model('/content/model_general_a_no_commonwords.h5')"
      ],
      "metadata": {
        "id": "ZMyk-U-8gpPX"
      },
      "execution_count": null,
      "outputs": []
    },
    {
      "cell_type": "code",
      "source": [
        "X_train=np.load('/content/X_train.npy',allow_pickle=True)"
      ],
      "metadata": {
        "id": "sc3IqHFgyfK2"
      },
      "execution_count": null,
      "outputs": []
    },
    {
      "cell_type": "code",
      "source": [
        "tokenizer = Tokenizer()\n",
        "tokenizer.fit_on_texts(X_train)\n",
        "\n",
        "threshold = 6\n",
        "total_cnt = len(tokenizer.word_index) # 단어의 수\n",
        "rare_cnt = 0 # 등장 빈도수가 threshold보다 작은 단어의 개수를 카운트\n",
        "total_freq = 0 # 훈련 데이터의 전체 단어 빈도수 총 합\n",
        "rare_freq = 0 # 등장 빈도수가 threshold보다 작은 단어의 등장 빈도수의 총 합\n",
        "\n",
        "# 단어와 빈도수의 쌍(pair)을 key와 value로 받는다.\n",
        "for key, value in tokenizer.word_counts.items():\n",
        "    total_freq = total_freq + value\n",
        "\n",
        "    # 단어의 등장 빈도수가 threshold보다 작으면\n",
        "    if(value < threshold):\n",
        "        rare_cnt = rare_cnt + 1\n",
        "        rare_freq = rare_freq + value\n",
        "\n",
        "print('단어 집합(vocabulary)의 크기 :',total_cnt)\n",
        "print('등장 빈도가 %s번 이하인 희귀 단어의 수: %s'%(threshold - 1, rare_cnt))\n",
        "print(\"단어 집합에서 희귀 단어의 비율:\", (rare_cnt / total_cnt)*100)\n",
        "print(\"전체 등장 빈도에서 희귀 단어 등장 빈도 비율:\", (rare_freq / total_freq)*100)\n",
        "\n",
        "# 전체 단어 개수 중 빈도수 2이하인 단어 개수는 제거.\n",
        "# 0번 패딩 토큰과 1번 OOV 토큰을 고려하여 +2\n",
        "vocab_size = total_cnt - rare_cnt + 2\n",
        "print('단어 집합의 크기 :',vocab_size)\n"
      ],
      "metadata": {
        "id": "tzfnfd0Yhlf1"
      },
      "execution_count": null,
      "outputs": []
    },
    {
      "cell_type": "code",
      "source": [
        "tokenizer = Tokenizer(vocab_size, oov_token = 'OOV') \n",
        "tokenizer.fit_on_texts(X_train)\n",
        "max_len=1000"
      ],
      "metadata": {
        "id": "EY-hmRmAsBML"
      },
      "execution_count": null,
      "outputs": []
    },
    {
      "cell_type": "code",
      "source": [
        "def sentiment_predict(new_sentence):\n",
        "    encoded = tokenizer.texts_to_sequences([new_sentence]) # 정수 인코딩\n",
        "\n",
        "    pad_new = pad_sequences(encoded, maxlen = max_len) # 패딩\n",
        "    score = float(loaded_model.predict(pad_new)) # 예측\n",
        "\n",
        "    return score"
      ],
      "metadata": {
        "id": "8GFteMVxhAZ5"
      },
      "execution_count": null,
      "outputs": []
    },
    {
      "cell_type": "code",
      "source": [
        "List_Pos=[]; List_Neg=[]\n",
        "\n",
        "for i in tqdm(TotalContent):\n",
        "    score=sentiment_predict(i)\n",
        "    List_Pos.append(score); List_Neg.append(1-score)\n",
        "\n",
        "data={'Pos':List_Pos,'Neg':List_Neg}\n"
      ],
      "metadata": {
        "id": "caHuXQ5Ah98-"
      },
      "execution_count": null,
      "outputs": []
    },
    {
      "cell_type": "code",
      "source": [
        "df_score=pd.DataFrame(data,columns=['Pos','Neg'])"
      ],
      "metadata": {
        "id": "V6JwCK5LOWhK"
      },
      "execution_count": null,
      "outputs": []
    },
    {
      "cell_type": "code",
      "source": [
        "senti=[]\n",
        "for index,row in df_score.iterrows():\n",
        "    senti.append(row['Pos']-row['Neg'])"
      ],
      "metadata": {
        "id": "s45NrHEZnuoK"
      },
      "execution_count": null,
      "outputs": []
    },
    {
      "cell_type": "code",
      "source": [
        "senti=pd.DataFrame(senti,columns=['Senti'])"
      ],
      "metadata": {
        "id": "nJ58MjX1oB1o"
      },
      "execution_count": null,
      "outputs": []
    },
    {
      "cell_type": "code",
      "source": [
        "df_total=pd.concat([df_score,senti],axis=1)"
      ],
      "metadata": {
        "id": "u-y5CR0YOghd"
      },
      "execution_count": null,
      "outputs": []
    },
    {
      "cell_type": "code",
      "source": [
        "df_total.to_excel('ShippingNewsData_Labeled.xlsx')\n",
        "\n",
        "files.download('ShippingNewsData_Labeled.xlsx')"
      ],
      "metadata": {
        "id": "RiRYuEJ0PjDU"
      },
      "execution_count": null,
      "outputs": []
    }
  ]
}