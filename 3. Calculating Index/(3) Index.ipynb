{
 "cells": [
  {
   "cell_type": "code",
   "execution_count": 2,
   "id": "ac7954cb",
   "metadata": {},
   "outputs": [],
   "source": [
    "import pandas as pd"
   ]
  },
  {
   "cell_type": "markdown",
   "id": "d939a396",
   "metadata": {},
   "source": [
    "### 파일 불러오기 감정지수, 토픽 비중"
   ]
  },
  {
   "cell_type": "code",
   "execution_count": 49,
   "id": "693eb888",
   "metadata": {},
   "outputs": [],
   "source": [
    "df_TopicCount=pd.read_excel(filename,usecols=['뉴스 기간','토픽 비중'])"
   ]
  },
  {
   "cell_type": "code",
   "execution_count": 50,
   "id": "d6e6d7c3",
   "metadata": {},
   "outputs": [],
   "source": [
    "df_TopicCount.fillna(0,inplace=True) #지수가 Nan인 날은 0으로 fill na"
   ]
  },
  {
   "cell_type": "code",
   "execution_count": 51,
   "id": "cdc1d0c6",
   "metadata": {},
   "outputs": [],
   "source": [
    "read_file=filename\n",
    "df_SentimentalIndex=pd.read_excel(read_file,usecols=['뉴스 기간','감성지수'])"
   ]
  },
  {
   "cell_type": "markdown",
   "id": "38144595",
   "metadata": {},
   "source": [
    "### 결합지수(0) 산출하기\n",
    "#### : 감성지수 * 전체 토픽 80개 연관어 비중(%)\n",
    "#### : col=['뉴스 기간','결합지수0]"
   ]
  },
  {
   "cell_type": "code",
   "execution_count": 52,
   "id": "7ff3e687",
   "metadata": {},
   "outputs": [],
   "source": [
    "LTerm=[]; LIndex0=[] #기간과 결합지수"
   ]
  },
  {
   "cell_type": "code",
   "execution_count": 53,
   "id": "445f4f27",
   "metadata": {},
   "outputs": [],
   "source": [
    "LTerm=df_SentimentalIndex['뉴스 기간'].tolist()"
   ]
  },
  {
   "cell_type": "code",
   "execution_count": 55,
   "id": "69ac06a5",
   "metadata": {},
   "outputs": [],
   "source": [
    "for i in LTerm:\n",
    "    Senti=df_SentimentalIndex.loc[df_SentimentalIndex['뉴스 기간']==i,['감성지수']].values[0][0]\n",
    "    TopicPercent=df_TopicCount.loc[df_TopicCount['뉴스 기간']==i,['토픽 비중']].values[0][0]\n",
    "    \n",
    "    index=Senti*TopicPercent\n",
    "    LIndex0.append(index)"
   ]
  },
  {
   "cell_type": "code",
   "execution_count": 57,
   "id": "5d06e009",
   "metadata": {},
   "outputs": [],
   "source": [
    "data={'뉴스 기간':LTerm,'결합지수0':LIndex0}"
   ]
  },
  {
   "cell_type": "code",
   "execution_count": 61,
   "id": "8dc3f89f",
   "metadata": {},
   "outputs": [],
   "source": [
    "df_index0=pd.DataFrame(data,columns=['뉴스 기간','결합지수0'])\n",
    "df_index0.to_excel('df_index0.xlsx')"
   ]
  },
  {
   "cell_type": "markdown",
   "id": "7f36a28c",
   "metadata": {},
   "source": [
    "## 결합지수 1: 감성지수 * 토픽 비중 상위 20개 단어 비중 \n",
    "### (1) 토픽 비중 연산 "
   ]
  },
  {
   "cell_type": "code",
   "execution_count": null,
   "id": "7935d067",
   "metadata": {},
   "outputs": [],
   "source": [
    "read_file=filename\n",
    "dfTopicPercentage=pd.read_excel(read_file)"
   ]
  },
  {
   "cell_type": "code",
   "execution_count": null,
   "id": "3b7864a1",
   "metadata": {},
   "outputs": [],
   "source": [
    "read_file=filename\n",
    "dfSentiment=pd.read_excel(read_file,usecols=['감정지수'])"
   ]
  },
  {
   "cell_type": "code",
   "execution_count": null,
   "id": "53b7fb60",
   "metadata": {},
   "outputs": [],
   "source": [
    "LTotal=[]; \n",
    "for i in range(262):\n",
    "    LRow=[]\n",
    "    \n",
    "    TopicResult=dfTopicPercentage.iloc[i,3:83]\n",
    "    Top20Topic=TopicResult.sort_values(ascending=[False])[:20]\n",
    "    Top20Percent=sum(Top20Topic.tolist())*100\n",
    "    \n",
    "    Senti=dfSentiment.iloc[i].values[0]\n",
    "    Index1=Senti*Top20Percent\n",
    "    \n",
    "    LRow.append(dfTopicPercentage.iloc[i,1]); LRow.append(Top20Topic.index.tolist())\n",
    "    LRow.append(Top20Percent); LRow.append(Senti); LRow.append(Index1)\n",
    "    \n",
    "    LTotal.append(LRow)"
   ]
  },
  {
   "cell_type": "code",
   "execution_count": null,
   "id": "477a8c06",
   "metadata": {},
   "outputs": [],
   "source": [
    "dfIndex1=pd.DataFrame(LTotal)\n",
    "dfIndex1.to_excel(filename)"
   ]
  },
  {
   "cell_type": "markdown",
   "id": "792ee670",
   "metadata": {},
   "source": [
    "## 결합지수(2) 산출"
   ]
  },
  {
   "cell_type": "markdown",
   "id": "5ead4fa5",
   "metadata": {},
   "source": [
    "### (1) 토픽 간 상관 관계 분석 "
   ]
  },
  {
   "cell_type": "code",
   "execution_count": null,
   "id": "9fac6bf1",
   "metadata": {},
   "outputs": [],
   "source": [
    "df_TopicCount=pd.read_excel(filename) #전체 뉴스 기사에 대한 토픽비중(index(0) 간 상관계수)"
   ]
  },
  {
   "cell_type": "code",
   "execution_count": null,
   "id": "24d43627",
   "metadata": {},
   "outputs": [],
   "source": [
    "read_file=filename\n",
    "df_SentimentalIndex=pd.read_excel(read_file,usecols=['뉴스 기간','감성지수'])"
   ]
  },
  {
   "cell_type": "code",
   "execution_count": null,
   "id": "cfe8af2f",
   "metadata": {},
   "outputs": [],
   "source": [
    "LTotal=[]; LTerm=[]\n",
    "for i in range(80): # 전체 기간에 대해서 \n",
    "    ColTopic=df_TopicCount.iloc[:,i+3]  # 전체 기간의 토픽 비중 \n",
    "    Senti=df_SentimentalIndex.iloc[:,1] #전체 기간의 감성지수 \n",
    "    \n",
    "    LCol=[Senti[i] * ColTopic[i] for i in range(262)] #결합지수 간 상관계수 산출 \n",
    "    \n",
    "    LTotal.append(LCol)\n",
    "    \n",
    "    LTerm.append(df_TopicCount.iloc[i,1])"
   ]
  },
  {
   "cell_type": "code",
   "execution_count": null,
   "id": "c3c5258d",
   "metadata": {},
   "outputs": [],
   "source": [
    "df_tmp=pd.DataFrame(LTotal).transpose()"
   ]
  },
  {
   "cell_type": "code",
   "execution_count": null,
   "id": "e9d8f9ca",
   "metadata": {},
   "outputs": [],
   "source": [
    "# 각 토픽들에 대해서 상관관계 구하기 \n",
    "corr=[[df_tmp[i].corr(df_tmp[j]) for j in range(80)] for i in range(80)] "
   ]
  },
  {
   "cell_type": "code",
   "execution_count": null,
   "id": "4d8ed085",
   "metadata": {},
   "outputs": [],
   "source": [
    "corr_total=[sum(r)for r in corr]\n",
    "df_corr=pd.DataFrame(corr_total)"
   ]
  },
  {
   "cell_type": "markdown",
   "id": "b5578dbf",
   "metadata": {},
   "source": [
    "### (2) 감성지수 * 토픽 간 상관 상위 20개 토픽 단어 비중 (%)"
   ]
  },
  {
   "cell_type": "code",
   "execution_count": null,
   "id": "4c57d3f2",
   "metadata": {},
   "outputs": [],
   "source": [
    "read_file=filename\n",
    "df_SentimentalIndex=pd.read_excel(read_file,usecols=['뉴스 기간','감성지수'])"
   ]
  },
  {
   "cell_type": "code",
   "execution_count": null,
   "id": "79e7e263",
   "metadata": {},
   "outputs": [],
   "source": [
    "read_file=filename\n",
    "df_Topic=pd.read_excel(read_file)\n",
    "df_Topic=df_Topic.iloc[:,3:]"
   ]
  },
  {
   "cell_type": "code",
   "execution_count": null,
   "id": "2195e98a",
   "metadata": {},
   "outputs": [],
   "source": [
    "Top20Corr=[66,15,23,6,0,3,60,8,70,39,68,16,11,76,53,37,18,42,59,71]"
   ]
  },
  {
   "cell_type": "code",
   "execution_count": null,
   "id": "052c2e3b",
   "metadata": {},
   "outputs": [],
   "source": [
    "LIndex2=[]; LPercent=[]; LTerm=[]; LTopTopic=[]\n",
    "for i in range(262):\n",
    "    \n",
    "    Senti=df_SentimentalIndex.iloc[i,1]\n",
    "    TopicPercent=sum([df_Topic.iloc[i,j] for j in Top20Corr])*100 #퍼센트화\n",
    "    \n",
    "    Index2=Senti*TopicPercent\n",
    "    LTerm.append(df_SentimentalIndex.iloc[i,0]); LIndex2.append(Index2); LPercent.append(TopicPercent)\n",
    "    LTopTopic.append(Top20Corr)"
   ]
  },
  {
   "cell_type": "code",
   "execution_count": null,
   "id": "5bf8145c",
   "metadata": {},
   "outputs": [],
   "source": [
    "data={\n",
    "    '뉴스 기간':LTerm, '상위 20 토픽':LTopTopic, '결합지수 2':LIndex2, '토픽 비중':LPercent\n",
    "}\n",
    "\n",
    "df_Index2=pd.DataFrame(data)\n",
    "df_Index2.to_excel(filename)"
   ]
  },
  {
   "cell_type": "markdown",
   "id": "dd2771b5",
   "metadata": {},
   "source": [
    "## 결합지수(3) 산출"
   ]
  },
  {
   "cell_type": "markdown",
   "id": "5cd69794",
   "metadata": {},
   "source": [
    "### (1) 토픽- 생산 간 상관계수 산출\n",
    "### i토픽의 토픽-생산 상관계수=상관계수(i- 토픽 결합지수, 생산증가율)"
   ]
  },
  {
   "cell_type": "code",
   "execution_count": null,
   "id": "32bf295a",
   "metadata": {},
   "outputs": [],
   "source": [
    "read_file=filename\n",
    "df_TopicCount=pd.read_excel(read_file)\n",
    "\n",
    "read_file=filename\n",
    "df_SentimentalIndex=pd.read_excel(read_file,usecols=['뉴스 기간','감정지수'])"
   ]
  },
  {
   "cell_type": "code",
   "execution_count": null,
   "id": "eaf319b3",
   "metadata": {},
   "outputs": [],
   "source": [
    "read_file=filename\n",
    "df_ProductionIndex=pd.read_excel(read_file,usecols=['수상 운송업'])\n",
    "\n",
    "LProduction=df_ProductionIndex['수상 운송업'].tolist()\n",
    "df_Production=pd.DataFrame(LProduction)"
   ]
  },
  {
   "cell_type": "code",
   "execution_count": null,
   "id": "ebe67edb",
   "metadata": {},
   "outputs": [],
   "source": [
    "LTotal=[]; LTerm=[]\n",
    "for i in range(80): # 전체 기간에 대해서 \n",
    "    ColTopic=df_TopicCount.iloc[:,i+3] # 전체 기간의 토픽 비중 \n",
    "    Senti=df_SentimentalIndex.iloc[:,1] #전체 기간의 감성지수 \n",
    "    \n",
    "    LCol=[Senti[i] * ColTopic[i] for i in range(262)]\n",
    "    \n",
    "    LTotal.append(LCol) #토픽의 결합지수\n",
    "    \n",
    "    LTerm.append(df_TopicCount.iloc[i,1])\n",
    "    \n",
    "df_tmp=pd.DataFrame(LTotal).transpose()"
   ]
  },
  {
   "cell_type": "code",
   "execution_count": null,
   "id": "355bfbe7",
   "metadata": {},
   "outputs": [],
   "source": [
    "corr=[df_tmp[i].corr(df_Production[0]) for i in range(80) ]"
   ]
  },
  {
   "cell_type": "code",
   "execution_count": null,
   "id": "18207835",
   "metadata": {},
   "outputs": [],
   "source": [
    "df_corr=pd.DataFrame(corr)\n",
    "df_corr.to_excel(filename)"
   ]
  },
  {
   "cell_type": "markdown",
   "id": "91d708bd",
   "metadata": {},
   "source": [
    "### (2) 결합지수(3) 산출\n",
    "### 감성지수*토픽-생산 상관 상위 20개 토픽 단어 비중 (%)"
   ]
  },
  {
   "cell_type": "code",
   "execution_count": null,
   "id": "8df5debb",
   "metadata": {},
   "outputs": [],
   "source": [
    "read_file=filename\n",
    "df_SentimentalIndex=pd.read_excel(read_file,usecols=['뉴스 기간','감성지수'])"
   ]
  },
  {
   "cell_type": "code",
   "execution_count": null,
   "id": "044ee2c2",
   "metadata": {},
   "outputs": [],
   "source": [
    "read_file=filename\n",
    "df_Topic=pd.read_excel(read_file)\n",
    "df_Topic=df_Topic.iloc[:,3:]"
   ]
  },
  {
   "cell_type": "code",
   "execution_count": null,
   "id": "88dc469f",
   "metadata": {},
   "outputs": [],
   "source": [
    "Top20Corr=[3,7,15,18,21,26,29,31,35,36,44,50,51,53,56,59,63,64,71,72] "
   ]
  },
  {
   "cell_type": "code",
   "execution_count": null,
   "id": "20ee85c6",
   "metadata": {},
   "outputs": [],
   "source": [
    "LIndex3=[]; LPercent=[]; LTerm=[]; LTopTopic=[]\n",
    "for i in range(262):\n",
    "    Senti=df_SentimentalIndex.iloc[i,1]\n",
    "    TopicPercent=sum([df_Topic.iloc[i,j] for j in Top20Corr])*100 #퍼센트화\n",
    "    \n",
    "    Index3=Senti*TopicPercent\n",
    "    LTerm.append(df_SentimentalIndex.iloc[i,0]); LIndex3.append(Index3); LPercent.append(TopicPercent)\n",
    "    LTopTopic.append(Top20Corr)"
   ]
  },
  {
   "cell_type": "code",
   "execution_count": null,
   "id": "a1750de7",
   "metadata": {},
   "outputs": [],
   "source": [
    "data={\n",
    "    '뉴스 기간':LTerm, '상위 20 토픽':LTopTopic, '결합지수 3':LIndex3, '토픽 비중':LPercent\n",
    "}\n",
    "\n",
    "df_Index2=pd.DataFrame(data)\n",
    "df_Index2.to_excel(filename)"
   ]
  }
 ],
 "metadata": {
  "kernelspec": {
   "display_name": "Python 3 (ipykernel)",
   "language": "python",
   "name": "python3"
  },
  "language_info": {
   "codemirror_mode": {
    "name": "ipython",
    "version": 3
   },
   "file_extension": ".py",
   "mimetype": "text/x-python",
   "name": "python",
   "nbconvert_exporter": "python",
   "pygments_lexer": "ipython3",
   "version": "3.7.3"
  }
 },
 "nbformat": 4,
 "nbformat_minor": 5
}
