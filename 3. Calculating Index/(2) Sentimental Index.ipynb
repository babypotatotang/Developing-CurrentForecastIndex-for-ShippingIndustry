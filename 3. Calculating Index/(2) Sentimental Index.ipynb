{
 "cells": [
  {
   "cell_type": "markdown",
   "id": "17a29422",
   "metadata": {},
   "source": [
    "## 감성지수 산출하기\n",
    "### 각 감성지수의 평균을 내어서 월별 감성지수를 산출했음. "
   ]
  },
  {
   "cell_type": "code",
   "execution_count": 1,
   "id": "89d47827",
   "metadata": {},
   "outputs": [],
   "source": [
    "import pandas as pd\n",
    "import numpy as np"
   ]
  },
  {
   "cell_type": "code",
   "execution_count": 2,
   "id": "f4250814",
   "metadata": {},
   "outputs": [],
   "source": [
    "#날짜별 수집을 위한 Dates 리스트 준비(2000.01~2021.10)\n",
    "read_file=filename\n",
    "\n",
    "before=pd.read_excel(read_file,usecols=[0])\n",
    "Before=before.values.tolist()\n",
    "Before=sum(Before,[]) #날짜 데이터 준비\n",
    "Before=list(map(int,Before))\n",
    "\n",
    "after=pd.read_excel(read_file,usecols=[1])\n",
    "After=after.values.tolist()\n",
    "After=sum(After,[]) #날짜 데이터 준비\n",
    "After=list(map(int,After))"
   ]
  },
  {
   "cell_type": "code",
   "execution_count": 1,
   "id": "07fd9f2a",
   "metadata": {},
   "outputs": [],
   "source": [
    "read_file=filename\n",
    "df_Sentimental=pd.read_excel(read_file,index_col=0)"
   ]
  },
  {
   "cell_type": "code",
   "execution_count": 4,
   "id": "b2b39f48",
   "metadata": {},
   "outputs": [],
   "source": [
    "read_file=filename\n",
    "df_Count=pd.read_excel(read_file,index_col=0)\n",
    "LCount=df_Count['뉴스 개수'].tolist()\n",
    "LCount=LCount[:262]"
   ]
  },
  {
   "cell_type": "code",
   "execution_count": 5,
   "id": "07221778",
   "metadata": {},
   "outputs": [],
   "source": [
    "##뉴스 기간 정보 입력 \n",
    "LTerm=[]; LDate=[]\n",
    "for i in range(len(Before)):\n",
    "    First=Before[i]; Last=After[i]\n",
    "    term=0\n",
    "    for Date in range(First,Last+1): # 월별 기간에 대해서\n",
    "        term+=1\n",
    "    LTerm.append(term)\n",
    "    LDate.append(str(First)+\"-\"+str(Last))"
   ]
  },
  {
   "cell_type": "code",
   "execution_count": 2,
   "id": "c2043ea4",
   "metadata": {},
   "outputs": [],
   "source": [
    "LSenti=[] #감성 지수 리스트 \n",
    "Pos=0;Neg=0\n",
    "for i in LCount:\n",
    "    index=LCount.index(i) \n",
    "    if index==0: #첫번째 기간에 대해 \n",
    "        df_tmp=df_Sentimental[0:i]\n",
    "    else: #이후 기간에 대해 \n",
    "        df_tmp=df_Sentimental[pre:pre+i]\n",
    "    \n",
    "    #일별 감성지수의 평균값을 감성지수\n",
    "    pos=df_tmp['Pos'].tolist(); MeanPos=np.mean(pos); \n",
    "    neg=df_tmp['Neg'].tolist(); MeanNeg=np.mean(neg)\n",
    "    \n",
    "    SentiIndex=(MeanPos-MeanNeg)*100\n",
    "    LSenti.append(round(SentiIndex,1))\n",
    "    pre=i"
   ]
  },
  {
   "cell_type": "code",
   "execution_count": 84,
   "id": "9fd9b280",
   "metadata": {},
   "outputs": [],
   "source": [
    "data={'기간':LDate, '감정지수':LSenti}"
   ]
  },
  {
   "cell_type": "code",
   "execution_count": 85,
   "id": "7e270611",
   "metadata": {},
   "outputs": [],
   "source": [
    "df_Sentiment_Month=pd.DataFrame(data,columns=['기간','감정지수'])"
   ]
  },
  {
   "cell_type": "code",
   "execution_count": 87,
   "id": "76e84558",
   "metadata": {},
   "outputs": [],
   "source": [
    "df_Sentiment_Month.to_excel(filename)"
   ]
  }
 ],
 "metadata": {
  "kernelspec": {
   "display_name": "pykernel",
   "language": "python",
   "name": "pykernel3.7.3"
  },
  "language_info": {
   "codemirror_mode": {
    "name": "ipython",
    "version": 3
   },
   "file_extension": ".py",
   "mimetype": "text/x-python",
   "name": "python",
   "nbconvert_exporter": "python",
   "pygments_lexer": "ipython3",
   "version": "3.7.3"
  }
 },
 "nbformat": 4,
 "nbformat_minor": 5
}
