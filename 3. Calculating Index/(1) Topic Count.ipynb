{
 "cells": [
  {
   "cell_type": "code",
   "execution_count": 1,
   "id": "49085462",
   "metadata": {},
   "outputs": [],
   "source": [
    "import pandas as pd"
   ]
  },
  {
   "cell_type": "code",
   "execution_count": 31,
   "id": "9e30df17",
   "metadata": {},
   "outputs": [],
   "source": [
    "#날짜별 리스트 생성 \n",
    "read_file=\"D:\\\\KMI-Project_tmp\\\\Data\\\\Date_Filter\\\\Date.xlsx\"\n",
    "\n",
    "before=pd.read_excel(read_file,usecols=[0])\n",
    "Before=before.values.tolist()\n",
    "Before=sum(Before,[]) #날짜 데이터 준비\n",
    "Before=list(map(int,Before))\n",
    "\n",
    "after=pd.read_excel(read_file,usecols=[1])\n",
    "After=after.values.tolist()\n",
    "After=sum(After,[]) #날짜 데이터 준비\n",
    "After=list(map(int,After))"
   ]
  },
  {
   "cell_type": "code",
   "execution_count": 4,
   "id": "efd02ced",
   "metadata": {},
   "outputs": [],
   "source": [
    "# 토픽 단어\n",
    "read_file='D:\\\\KMI-Project_tmp\\\\Data\\\\Shipping News\\\\1. Topic Word.xlsx'\n",
    "TotalTopic=pd.read_excel(read_file,index_col=0)"
   ]
  },
  {
   "cell_type": "code",
   "execution_count": 5,
   "id": "4afcde77",
   "metadata": {},
   "outputs": [],
   "source": [
    "#토픽 리스트 생성 \n",
    "TopicList=[]\n",
    "for index,row in TotalTopic.iterrows():\n",
    "    Topic=row.values\n",
    "    Topic=Topic.tolist()\n",
    "    TopicList.append(Topic)"
   ]
  },
  {
   "cell_type": "markdown",
   "id": "37d64ff3",
   "metadata": {},
   "source": [
    "## 토픽 빈도와 비중의 일별 추이 산출"
   ]
  },
  {
   "cell_type": "code",
   "execution_count": 7,
   "id": "4aff3851",
   "metadata": {},
   "outputs": [],
   "source": [
    "#row: 일자, topic 1, topic 2 , ... topic80, topic 빈도, topic 비중 \n",
    "df_total=pd.DataFrame()\n",
    "for i in range(len(Before)):\n",
    "    First=int(Before[i]); Last=int(After[i])\n",
    " \n",
    "    for Date in range(First,Last+1):\n",
    "        NewsList=TotalDoc.loc[TotalDoc['뉴스 일자']==Date,['키워드']].values\n",
    "        Row=[]; Row.append(str(Date))\n",
    "        \n",
    "        if len(NewsList)==0:\n",
    "            for i in range(82):\n",
    "                Row.append(0) # 82번 모두 0으로 \n",
    "        else:\n",
    "            TotalWordCount=0; TotalTopicCount=0\n",
    "            \n",
    "            for News in NewsList:\n",
    "                News=News.tolist(); StrNews=' '.join(News) #string 형 뉴스 \n",
    "                TotalWordCount+=len(StrNews)\n",
    "            \n",
    "            for Topics in TopicList:\n",
    "                TopicCount=0\n",
    "\n",
    "                for News in NewsList: #뉴스 리스트를 string 형 뉴스로 나누어 토픽 비중 카운트 \n",
    "                    News=News.tolist(); StrNews=' '.join(News) #string 형 뉴스 \n",
    "\n",
    "                    for TopicWord in Topics:\n",
    "                        if TopicWord in StrNews:\n",
    "                            TopicCount+=1\n",
    "                            \n",
    "                TotalTopicCount+=TopicCount\n",
    "                Row.append(TopicCount) #Row에 TopicCount 덧붙이기\n",
    "                \n",
    "            Row.append(TotalWordCount);#+ 기사의 전체 단어 수\n",
    "            Row.append(TotalTopicCount)# + 토픽 빈도\n",
    "            Row.append(TotalTopicCount/TotalWordCount) #+ 토픽 비중     \n",
    "                \n",
    "        df_row=pd.DataFrame(Row).transpose()\n",
    "        \n",
    "        df_total=df_total.append(df_row)"
   ]
  },
  {
   "cell_type": "markdown",
   "id": "7ec93423",
   "metadata": {},
   "source": [
    "## 일별 데이터를 월별 데이터로 저장 "
   ]
  },
  {
   "cell_type": "code",
   "execution_count": 11,
   "id": "5dc65b84",
   "metadata": {},
   "outputs": [],
   "source": [
    "df=pd.read_excel('D:\\\\KMI-Project_tmp\\Data\\\\Shipping News\\\\5. TopicCountDaily.xlsx')\n",
    "\n",
    "#뉴스 기간 리스트 생성\n",
    "LTerm=[]\n",
    "for i in range(len(Before)):\n",
    "    First=Before[i]; Last=After[i]\n",
    "    Term=str(First)+\"-\"+str(Last)\n",
    "    LTerm.append(Term)\n",
    "\n",
    "#전체 단어 수 리스트 생성\n",
    "LTotal=[]\n",
    "for i in range(len(Before)):\n",
    "    First=Before[i]; Last=After[i]\n",
    "    TotalCount=0\n",
    "    for Date in range(First,Last+1): # 월별 기간에 대해서\n",
    "        TotalCount+=df.loc[df['뉴스 일자']==Date,['전체 단어 수']].values[0][0]\n",
    "    \n",
    "    LTotal.append(TotalCount)\n",
    "\n",
    "LMonthlyTopic=[]\n",
    "\n",
    "for i in range(len(Before)):\n",
    "    First=int(Before[i]); Last=int(After[i])\n",
    "    Row=[]\n",
    "    \n",
    "    for j in range(1,81):\n",
    "        TopicCount=0\n",
    "        for Date in range(First,Last+1): # 월별 기간에 대해서\n",
    "            TopicCount+=df.loc[df['뉴스 일자']==Date,[j]].values[0][0]\n",
    "    Row.append(TopicCount)\n",
    "        \n",
    "    LMonthlyTopic.append(Row)\n"
   ]
  },
  {
   "cell_type": "code",
   "execution_count": 38,
   "id": "6699d96e",
   "metadata": {},
   "outputs": [],
   "source": [
    "data={'뉴스 기간':LTerm, '전체 단어 수':LTotal}\n",
    "df_tmp=pd.DataFrame(data)\n",
    "df_tmp2=pd.DataFrame(LMonthlyTopic)\n",
    "df_Monthly=pd.concat([df_tmp,df_tmp2],axis=1)"
   ]
  }
 ],
 "metadata": {
  "kernelspec": {
   "display_name": "Python 3 (ipykernel)",
   "language": "python",
   "name": "python3"
  },
  "language_info": {
   "codemirror_mode": {
    "name": "ipython",
    "version": 3
   },
   "file_extension": ".py",
   "mimetype": "text/x-python",
   "name": "python",
   "nbconvert_exporter": "python",
   "pygments_lexer": "ipython3",
   "version": "3.7.3"
  }
 },
 "nbformat": 4,
 "nbformat_minor": 5
}
