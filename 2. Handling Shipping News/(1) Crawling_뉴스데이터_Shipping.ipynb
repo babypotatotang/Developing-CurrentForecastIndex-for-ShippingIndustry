{
 "cells": [
  {
   "cell_type": "markdown",
   "id": "d357173f",
   "metadata": {},
   "source": [
    "디스플레이 해상도: 100% \n",
    "\n",
    "크롬 드라이버 위치 항상 확인"
   ]
  },
  {
   "cell_type": "code",
   "execution_count": 1,
   "id": "349b0aa5",
   "metadata": {},
   "outputs": [
    {
     "ename": "ModuleNotFoundError",
     "evalue": "No module named 'selenium'",
     "output_type": "error",
     "traceback": [
      "\u001b[1;31m---------------------------------------------------------------------------\u001b[0m",
      "\u001b[1;31mModuleNotFoundError\u001b[0m                       Traceback (most recent call last)",
      "\u001b[1;32m~\\AppData\\Local\\Temp/ipykernel_11516/2433743784.py\u001b[0m in \u001b[0;36m<module>\u001b[1;34m\u001b[0m\n\u001b[1;32m----> 1\u001b[1;33m \u001b[1;32mfrom\u001b[0m \u001b[0mselenium\u001b[0m \u001b[1;32mimport\u001b[0m \u001b[0mwebdriver\u001b[0m\u001b[1;33m\u001b[0m\u001b[1;33m\u001b[0m\u001b[0m\n\u001b[0m\u001b[0;32m      2\u001b[0m \u001b[1;32mfrom\u001b[0m \u001b[0mselenium\u001b[0m\u001b[1;33m.\u001b[0m\u001b[0mwebdriver\u001b[0m\u001b[1;33m.\u001b[0m\u001b[0mremote\u001b[0m\u001b[1;33m.\u001b[0m\u001b[0mwebelement\u001b[0m \u001b[1;32mimport\u001b[0m \u001b[0mWebElement\u001b[0m\u001b[1;33m\u001b[0m\u001b[1;33m\u001b[0m\u001b[0m\n\u001b[0;32m      3\u001b[0m \u001b[1;32mfrom\u001b[0m \u001b[0mselenium\u001b[0m\u001b[1;33m.\u001b[0m\u001b[0mwebdriver\u001b[0m\u001b[1;33m.\u001b[0m\u001b[0mcommon\u001b[0m\u001b[1;33m.\u001b[0m\u001b[0mkeys\u001b[0m \u001b[1;32mimport\u001b[0m \u001b[0mKeys\u001b[0m\u001b[1;33m\u001b[0m\u001b[1;33m\u001b[0m\u001b[0m\n\u001b[0;32m      4\u001b[0m \u001b[1;32mfrom\u001b[0m \u001b[0mselenium\u001b[0m\u001b[1;33m.\u001b[0m\u001b[0mwebdriver\u001b[0m \u001b[1;32mimport\u001b[0m \u001b[0mActionChains\u001b[0m\u001b[1;33m\u001b[0m\u001b[1;33m\u001b[0m\u001b[0m\n\u001b[0;32m      5\u001b[0m \u001b[1;33m\u001b[0m\u001b[0m\n",
      "\u001b[1;31mModuleNotFoundError\u001b[0m: No module named 'selenium'"
     ]
    }
   ],
   "source": [
    "from selenium import webdriver\n",
    "from selenium.webdriver.remote.webelement import WebElement\n",
    "from selenium.webdriver.common.keys import Keys\n",
    "from selenium.webdriver import ActionChains\n",
    "\n",
    "from selenium.webdriver.support.select import Select\n",
    "\n",
    "from time import sleep\n",
    "import csv\n",
    "\n",
    "import pandas as pd\n",
    "import math "
   ]
  },
  {
   "cell_type": "code",
   "execution_count": 2,
   "id": "535625da",
   "metadata": {},
   "outputs": [],
   "source": [
    "url=\"https://www.bigkinds.or.kr/\"\n",
    "Or_Keyword=\"해운업,해운산업,해운경기,해운업계\"\n",
    "ID=\"gwonso4502@gmail.com\"\n",
    "PW=\"kmi12345!\""
   ]
  },
  {
   "cell_type": "code",
   "execution_count": 3,
   "id": "e9dda1a9",
   "metadata": {},
   "outputs": [
    {
     "name": "stdout",
     "output_type": "stream",
     "text": [
      "2000-01-012000-01-31\n"
     ]
    }
   ],
   "source": [
    "read_file=\"C:\\\\Users\\\\User\\\\Desktop\\\\뉴스데이터 수집\\\\RawData\\\\Date_Filter\\\\Date_BigKinds.xlsx\"\n",
    "\n",
    "before_date=pd.read_excel(read_file,usecols=[0]) #시작 날짜\n",
    "before_date=before_date.values.tolist()\n",
    "before_date=sum(before_date,[]) #날짜 데이터 준비\n",
    "\n",
    "after_date=pd.read_excel(read_file,usecols=[1]) #시작 날짜\n",
    "after_date=after_date.values.tolist()\n",
    "after_date=sum(after_date,[]) #날짜 데이터 준비\n",
    "\n",
    "Before=list(map(str,before_date))\n",
    "After=list(map(str,after_date))\n",
    "\n",
    "print(Before[0]+After[0])"
   ]
  },
  {
   "cell_type": "code",
   "execution_count": 4,
   "id": "c5088bfd",
   "metadata": {},
   "outputs": [],
   "source": [
    "def SetDate(i):\n",
    "    pre=Before[i]; post=After[i]\n",
    "   \n",
    "    sleep(3)\n",
    "    preDate=browser.find_element_by_xpath('//*[@id=\"search-begin-date\"]');\n",
    "    preDate.send_keys(Keys.CONTROL+\"a\"); preDate.send_keys(Keys.BACKSPACE); preDate.send_keys(pre)\n",
    "\n",
    "    postDate=browser.find_element_by_xpath('//*[@id=\"search-end-date\"]');\n",
    "    postDate.send_keys(Keys.CONTROL+\"a\"); postDate.send_keys(Keys.BACKSPACE); postDate.send_keys(post)\n",
    "\n",
    "    click=browser.find_element_by_xpath('//*[@id=\"search-foot-div\"]/div[2]/button[2]'); click.click()\n"
   ]
  },
  {
   "cell_type": "code",
   "execution_count": 6,
   "id": "c9f5dafa",
   "metadata": {},
   "outputs": [],
   "source": [
    "options=webdriver.ChromeOptions()\n",
    "options.add_argument(\"--start-maximized\")\n",
    "\n",
    "browser=webdriver.Chrome('C:\\\\Users\\\\User\\\\2021_internship_coding\\\\chromedriver',options=options)\n",
    "browser.get(url) #해당 브라우저 열기\n",
    "\n",
    "##########################Login###########################\n",
    "click=browser.find_element_by_xpath('//*[@id=\"header\"]/div[1]/div/div/button[1]'); click.click()\n",
    "\n",
    "#login\n",
    "login_ID=browser.find_element_by_xpath('//*[@id=\"login-user-id\"]'); login_ID.send_keys(ID)\n",
    "login_PW=browser.find_element_by_xpath('//*[@id=\"login-user-password\"]'); login_PW.send_keys(PW)\n",
    "click=browser.find_element_by_xpath('//*[@id=\"login-btn\"]'); click.click()\n",
    "\n",
    "click=browser.find_element_by_xpath('//*[@id=\"header\"]/div[2]/div[2]/div[1]/div/div[1]/div/ul/li[1]/a'); click.click()\n",
    "click=browser.find_element_by_xpath('//*[@id=\"header\"]/div[2]/div[2]/div[1]/div/div[2]/div/div[1]/ul/li[1]/a'); click.click()\n",
    "click=browser.find_element_by_xpath('//*[@id=\"collapse-step-1-body\"]/div[3]/div/div[3]/div[1]/a'); click.click()\n",
    "\n",
    "#키워드 입력\n",
    "SearchKeyword_Or=browser.find_element_by_xpath('//*[@id=\"orKeyword1\"]'); SearchKeyword_Or.send_keys(Or_Keyword)\n",
    "#SearchKeyword_And=browser.find_element_by_xpath('//*[@id=\"andKeyword1\"]'); SearchKeyword_And.send_keys(And_Keyword)\n",
    "\n",
    "bar=browser.find_element_by_xpath('//*[@id=\"collapse-step-1\"]')\n",
    "bar1=browser.find_element_by_xpath('//*[@id=\"collapse-step-1-body\"]/div[3]/div/div[1]/div[1]/a'); bar1.click() #기간 탭 들어가기\n",
    " \n",
    "for i in range(0,262):\n",
    "    #select date\n",
    "    SetDate(i)\n",
    "    \n",
    "    sleep(1)\n",
    "    browser.execute_script(\"window.scrollTo(0, 380)\")\n",
    "\n",
    "    click=browser.find_element_by_xpath('//*[@id=\"collapse-step-3\"]'); click.click() #상세보기 \n",
    "\n",
    "    sleep(1)\n",
    "    click=browser.find_element_by_xpath('//*[@id=\"analytics-data-download\"]/div[3]/button'); click.click() #다운로드\n",
    "    \n",
    "    action=ActionChains(browser); action.move_to_element(bar).perform()\n",
    "    bar.click() #위로 올라가기 \n",
    " "
   ]
  }
 ],
 "metadata": {
  "kernelspec": {
   "display_name": "pykernel",
   "language": "python",
   "name": "pykernel3.7.3"
  },
  "language_info": {
   "codemirror_mode": {
    "name": "ipython",
    "version": 3
   },
   "file_extension": ".py",
   "mimetype": "text/x-python",
   "name": "python",
   "nbconvert_exporter": "python",
   "pygments_lexer": "ipython3",
   "version": "3.7.3"
  }
 },
 "nbformat": 4,
 "nbformat_minor": 5
}
